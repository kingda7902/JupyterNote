{
 "cells": [
  {
   "cell_type": "markdown",
   "metadata": {},
   "source": [
    "# PTT\n",
    "[八卦板](https://www.ptt.cc/bbs/Gossiping)  \n",
    "[Tech_Job](https://www.ptt.cc/bbs/Tech_Job/index.html)"
   ]
  },
  {
   "cell_type": "code",
   "execution_count": 36,
   "metadata": {},
   "outputs": [
    {
     "name": "stdout",
     "output_type": "stream",
     "text": [
      "200\n",
      "None\n",
      "<bound method Tag.prettify of <!DOCTYPE html>\n",
      "<html>\n",
      "<head>\n",
      "<meta charset=\"utf-8\"/>\n",
      "<meta content=\"width=device-width, initial-scale=1\" name=\"viewport\"/>\n",
      "<title>看板 Tech_Job 文章列表 - 批踢踢實業坊</title>\n",
      "<link href=\"//images.ptt.cc/bbs/v2.22/bbs-common.css\" rel=\"stylesheet\" type=\"text/css\"/>\n",
      "<link href=\"//images.ptt.cc/bbs/v2.22/bbs-base.css\" media=\"screen\" rel=\"stylesheet\" type=\"text/css\"/>\n",
      "<link href=\"//images.ptt.cc/bbs/v2.22/bbs-custom.css\" rel=\"stylesheet\" type=\"text/css\"/>\n",
      "<link href=\"//images.ptt.cc/bbs/v2.22/pushstream.css\" media=\"screen\" rel=\"stylesheet\" type=\"text/css\"/>\n",
      "<link href=\"//images.ptt.cc/bbs/v2.22/bbs-print.css\" media=\"print\" rel=\"stylesheet\" type=\"text/css\"/>\n",
      "</head>\n",
      "<body>\n",
      "<div id=\"topbar-container\">\n",
      "<div class=\"bbs-content\" id=\"topbar\">\n",
      "<a href=\"/\" id=\"logo\">批踢踢實業坊</a>\n",
      "<span>›</span>\n",
      "<a class=\"board\" href=\"/bbs/Tech_Job/index.html\"><span class=\"board-label\">看板 </span>Tech_Job</a>\n",
      "<a class=\"right small\" href=\"/about.html\">關於我們</a>\n",
      "<a class=\"right small\" href=\"/contact.html\">聯絡資訊</a>\n",
      "</div>\n",
      "</div>\n",
      "<div id=\"main-container\">\n",
      "<div id=\"action-bar-container\">\n",
      "<div class=\"action-bar\">\n",
      "<div class=\"btn-group btn-group-dir\">\n",
      "<a class=\"btn selected\" href=\"/bbs/Tech_Job/index.html\">看板</a>\n",
      "<a class=\"btn\" href=\"/man/Tech_Job/index.html\">精華區</a>\n",
      "</div>\n",
      "<div class=\"btn-group btn-group-paging\">\n",
      "<a class=\"btn wide\" href=\"/bbs/Tech_Job/index1.html\">最舊</a>\n",
      "<a class=\"btn wide\" href=\"/bbs/Tech_Job/index2713.html\">‹ 上頁</a>\n",
      "<a class=\"btn wide disabled\">下頁 ›</a>\n",
      "<a class=\"btn wide\" href=\"/bbs/Tech_Job/index.html\">最新</a>\n",
      "</div>\n",
      "</div>\n",
      "</div>\n",
      "<div class=\"r-list-container action-bar-margin bbs-screen\">\n",
      "<div class=\"r-ent\">\n",
      "<div class=\"nrec\"><span class=\"hl f2\">1</span></div>\n",
      "<div class=\"mark\"></div>\n",
      "<div class=\"title\">\n",
      "<a href=\"/bbs/Tech_Job/M.1499763212.A.18A.html\">[請益] 關於英語的IT方面研討會??</a>\n",
      "</div>\n",
      "<div class=\"meta\">\n",
      "<div class=\"date\"> 7/11</div>\n",
      "<div class=\"author\">landy924</div>\n",
      "</div>\n",
      "</div>\n",
      "<div class=\"r-ent\">\n",
      "<div class=\"nrec\"></div>\n",
      "<div class=\"mark\"></div>\n",
      "<div class=\"title\">\n",
      "<a href=\"/bbs/Tech_Job/M.1499765494.A.40A.html\">Re: [討論] 三年沒破百萬就是魯蛇嗎</a>\n",
      "</div>\n",
      "<div class=\"meta\">\n",
      "<div class=\"date\"> 7/11</div>\n",
      "<div class=\"author\">smaxtor2002</div>\n",
      "</div>\n",
      "</div>\n",
      "<div class=\"r-ent\">\n",
      "<div class=\"nrec\"></div>\n",
      "<div class=\"mark\"></div>\n",
      "<div class=\"title\">\n",
      "<a href=\"/bbs/Tech_Job/M.1499769945.A.6AC.html\">Re: [請益] AMD offer</a>\n",
      "</div>\n",
      "<div class=\"meta\">\n",
      "<div class=\"date\"> 7/11</div>\n",
      "<div class=\"author\">fakeAccount</div>\n",
      "</div>\n",
      "</div>\n",
      "<div class=\"r-ent\">\n",
      "<div class=\"nrec\"></div>\n",
      "<div class=\"mark\"></div>\n",
      "<div class=\"title\">\n",
      "<a href=\"/bbs/Tech_Job/M.1499770537.A.C15.html\">[討論] 騰訊又給員工發48.5億港元紅包</a>\n",
      "</div>\n",
      "<div class=\"meta\">\n",
      "<div class=\"date\"> 7/11</div>\n",
      "<div class=\"author\">yh662288</div>\n",
      "</div>\n",
      "</div>\n",
      "<div class=\"r-list-sep\"></div>\n",
      "<div class=\"r-ent\">\n",
      "<div class=\"nrec\"><span class=\"hl f1\">爆</span></div>\n",
      "<div class=\"mark\">M</div>\n",
      "<div class=\"title\">\n",
      "<a href=\"/bbs/Tech_Job/M.1306417621.A.318.html\">律師為您解惑－線上勞動法免費諮詢即日為勞工 …</a>\n",
      "</div>\n",
      "<div class=\"meta\">\n",
      "<div class=\"date\"> 5/26</div>\n",
      "<div class=\"author\">pzs</div>\n",
      "</div>\n",
      "</div>\n",
      "<div class=\"r-ent\">\n",
      "<div class=\"nrec\"><span class=\"hl f2\">9</span></div>\n",
      "<div class=\"mark\">M</div>\n",
      "<div class=\"title\">\n",
      "<a href=\"/bbs/Tech_Job/M.1393646135.A.A28.html\">[公告] Tech_Job板板規 2014.03.01</a>\n",
      "</div>\n",
      "<div class=\"meta\">\n",
      "<div class=\"date\"> 3/01</div>\n",
      "<div class=\"author\">mmkntust</div>\n",
      "</div>\n",
      "</div>\n",
      "<div class=\"r-ent\">\n",
      "<div class=\"nrec\"><span class=\"hl f3\">99</span></div>\n",
      "<div class=\"mark\">M</div>\n",
      "<div class=\"title\">\n",
      "<a href=\"/bbs/Tech_Job/M.1410062073.A.1B6.html\">[公告] 置底 檢舉/推薦 文章</a>\n",
      "</div>\n",
      "<div class=\"meta\">\n",
      "<div class=\"date\"> 9/07</div>\n",
      "<div class=\"author\">mmkntust</div>\n",
      "</div>\n",
      "</div>\n",
      "<div class=\"r-ent\">\n",
      "<div class=\"nrec\"><span class=\"hl f1\">爆</span></div>\n",
      "<div class=\"mark\">M</div>\n",
      "<div class=\"title\">\n",
      "<a href=\"/bbs/Tech_Job/M.1476442719.A.187.html\">[免費]工作人生顧問</a>\n",
      "</div>\n",
      "<div class=\"meta\">\n",
      "<div class=\"date\">10/14</div>\n",
      "<div class=\"author\">zodiac</div>\n",
      "</div>\n",
      "</div>\n",
      "<div class=\"r-ent\">\n",
      "<div class=\"nrec\"><span class=\"hl f2\">4</span></div>\n",
      "<div class=\"mark\">M</div>\n",
      "<div class=\"title\">\n",
      "<a href=\"/bbs/Tech_Job/M.1425268790.A.15E.html\">[公告] 如何消除退文 轉自Ask板</a>\n",
      "</div>\n",
      "<div class=\"meta\">\n",
      "<div class=\"date\"> 3/02</div>\n",
      "<div class=\"author\">mmkntust</div>\n",
      "</div>\n",
      "</div>\n",
      "</div>\n",
      "</div>\n",
      "<script>\n",
      "  (function(i,s,o,g,r,a,m){i['GoogleAnalyticsObject']=r;i[r]=i[r]||function(){\n",
      "  (i[r].q=i[r].q||[]).push(arguments)},i[r].l=1*new Date();a=s.createElement(o),\n",
      "  m=s.getElementsByTagName(o)[0];a.async=1;a.src=g;m.parentNode.insertBefore(a,m)\n",
      "  })(window,document,'script','https://www.google-analytics.com/analytics.js','ga');\n",
      "\n",
      "  ga('create', 'UA-32365737-1', {\n",
      "    cookieDomain: 'ptt.cc',\n",
      "    legacyCookieDomain: 'ptt.cc'\n",
      "  });\n",
      "  ga('send', 'pageview');\n",
      "</script>\n",
      "<script src=\"//ajax.googleapis.com/ajax/libs/jquery/2.1.1/jquery.min.js\"></script>\n",
      "<script src=\"//images.ptt.cc/bbs/v2.22/bbs.js\"></script>\n",
      "</body>\n",
      "</html>\n",
      ">\n"
     ]
    }
   ],
   "source": [
    "import requests\n",
    "from bs4 import BeautifulSoup\n",
    "\n",
    "URL = \"https://www.ptt.cc/bbs/Tech_Job/index.html\"\n",
    "res = requests.get(URL)\n",
    "print(res.status_code) #八卦板會先出現300跳轉到是否18網頁\n",
    "\n",
    "#\n",
    "soup = BeautifulSoup(res.text, \"lxml\")\n",
    "print(soup.select_one('.over18-notice'))\n",
    "print(soup.prettify)"
   ]
  },
  {
   "cell_type": "markdown",
   "metadata": {},
   "source": [
    "\n"
   ]
  },
  {
   "cell_type": "markdown",
   "metadata": {},
   "source": [
    "## observation\n",
    "\n",
    "* 這邊可以得到總頁數\n",
    "  xpath://*[@id=\"action-bar-container\"]/div/div[2]/a[2]\n",
    "> ``` <div class=\"btn-group btn-group-paging\">\n",
    "<a class=\"btn wide\" href=\"/bbs/Tech_Job/index1.html\">最舊</a>\n",
    "<a class=\"btn wide\" href=\"/bbs/Tech_Job/index2710.html\">‹ 上頁</a>\n",
    "<a class=\"btn wide disabled\">下頁 ›</a>\n",
    "<a class=\"btn wide\" href=\"/bbs/Tech_Job/index.html\">最新</a>\n",
    "</div> ```\n",
    "\n",
    "* 要爬需要的URL\n",
    "> ``` <div class=\"r-ent\">\n",
    "<div class=\"nrec\"></div>\n",
    "<div class=\"mark\"></div>\n",
    "<div class=\"title\">\n",
    "<a href=\"/bbs/Tech_Job/M.1499315840.A.3C1.html\">Re: [討論]公司要RD背業績?</a>\n",
    "</div>\n",
    "<div class=\"meta\">\n",
    "<div class=\"date\"> 7/06</div>\n",
    "<div class=\"author\">Noemen</div>\n",
    "</div>\n",
    "</div> ```  \n",
    "\n"
   ]
  },
  {
   "cell_type": "code",
   "execution_count": 3,
   "metadata": {},
   "outputs": [
    {
     "data": {
      "text/plain": [
       "'/bbs/Tech_Job/index2712.html'"
      ]
     },
     "execution_count": 3,
     "metadata": {},
     "output_type": "execute_result"
    }
   ],
   "source": [
    "# index頁數 + url\n",
    "btn_pre_page = soup.select(\".btn-group-paging > a\")[1]\n",
    "btn_pre_page[\"href\"]"
   ]
  },
  {
   "cell_type": "code",
   "execution_count": 28,
   "metadata": {},
   "outputs": [],
   "source": [
    "import re\n",
    "\n",
    "total_page = int(re.findall('\\d+',btn_pre_page[\"href\"])[0])"
   ]
  },
  {
   "cell_type": "code",
   "execution_count": 20,
   "metadata": {},
   "outputs": [],
   "source": [
    "for elet in soup.select(\".r-ent a\") :\n",
    "    if re.search('徵才', elet.text):\n",
    "        print(elet[\"href\"])\n",
    "        print(elet.text)"
   ]
  },
  {
   "cell_type": "code",
   "execution_count": 79,
   "metadata": {},
   "outputs": [],
   "source": [
    "import re\n",
    "import json\n",
    "\n",
    "import requests\n",
    "from bs4 import BeautifulSoup\n",
    "\n",
    "\n",
    "uri = \"https://www.ptt.cc\"\n",
    "\n",
    "job_list = []\n",
    "\n",
    "#首頁\n",
    "\n",
    "URL = \"https://www.ptt.cc/bbs/Tech_Job/index.html\"\n",
    "res = requests.get(URL)\n",
    "soup = BeautifulSoup(res.text, 'lxml')\n",
    "for elet in soup.select(\".r-ent a\"):\n",
    "    if re.search('徵才', elet.text):\n",
    "        job_dict = {}\n",
    "        job_dict['title']  = elet.text\n",
    "        job_dict['url'] = uri + elet[\"href\"]\n",
    "        job_list.append(job_dict)\n",
    "\n",
    "for page in range(total_page,total_page-10,-1):\n",
    "    URL = \"https://www.ptt.cc/bbs/Tech_Job/index{}.html\".format(page)\n",
    "    res = requests.get(URL)\n",
    "    soup = BeautifulSoup(res.text, 'lxml')\n",
    "    for elet in soup.select(\".r-ent a\"):\n",
    "        if re.search('徵才', elet.text):\n",
    "            job_dict = {}\n",
    "            job_dict['title']  = elet.text\n",
    "            job_dict['url'] = uri + elet[\"href\"]\n",
    "            job_list.append(job_dict)\n",
    "    "
   ]
  },
  {
   "cell_type": "code",
   "execution_count": 80,
   "metadata": {},
   "outputs": [
    {
     "data": {
      "text/plain": [
       "[{'title': '[徵才] 奧圖碼科技徵行銷助理(中長期工讀)',\n",
       "  'url': 'https://www.ptt.cc/bbs/Tech_Job/M.1499671844.A.1A7.html'},\n",
       " {'title': '[徵才] 台北市立聯合醫院碩士級管理師(醫工)',\n",
       "  'url': 'https://www.ptt.cc/bbs/Tech_Job/M.1499678764.A.B62.html'},\n",
       " {'title': '[徵才] 台大化工系實驗室徵學/碩士級研究助理',\n",
       "  'url': 'https://www.ptt.cc/bbs/Tech_Job/M.1499666225.A.91B.html'},\n",
       " {'title': '[徵才] 清大動機 科技部計畫碩士級研究助理乙名',\n",
       "  'url': 'https://www.ptt.cc/bbs/Tech_Job/M.1499406272.A.A4B.html'},\n",
       " {'title': '[徵才] 清大動機 科技部計畫博士後研究員乙名',\n",
       "  'url': 'https://www.ptt.cc/bbs/Tech_Job/M.1499407020.A.2ED.html'},\n",
       " {'title': '[徵才] ucfunnel-Node.js/Front-End/資料科學家',\n",
       "  'url': 'https://www.ptt.cc/bbs/Tech_Job/M.1499269700.A.042.html'}]"
      ]
     },
     "execution_count": 80,
     "metadata": {},
     "output_type": "execute_result"
    }
   ],
   "source": [
    "job_list\n"
   ]
  },
  {
   "cell_type": "code",
   "execution_count": 62,
   "metadata": {},
   "outputs": [],
   "source": [
    "\n",
    "\n",
    "import json\n",
    "\n",
    "with open('pttlist.json','w') as outfile:\n",
    "    json.dump(job_list, outfile)\n"
   ]
  },
  {
   "cell_type": "code",
   "execution_count": 71,
   "metadata": {},
   "outputs": [
    {
     "name": "stdout",
     "output_type": "stream",
     "text": [
      "https://www.ptt.cc/bbs/Tech_Job/index2452.html\n",
      "200\n"
     ]
    }
   ],
   "source": [
    "print(URL)\n",
    "res = requests.get(URL)\n",
    "print(res.status_code)\n"
   ]
  },
  {
   "cell_type": "code",
   "execution_count": 74,
   "metadata": {},
   "outputs": [
    {
     "data": {
      "text/plain": [
       "[2712, 2711, 2710, 2709, 2708, 2707, 2706, 2705, 2704, 2703]"
      ]
     },
     "execution_count": 74,
     "metadata": {},
     "output_type": "execute_result"
    }
   ],
   "source": [
    "list(range(total_page, total_page-10,-1))"
   ]
  },
  {
   "cell_type": "code",
   "execution_count": null,
   "metadata": {
    "collapsed": true
   },
   "outputs": [],
   "source": []
  }
 ],
 "metadata": {
  "kernelspec": {
   "display_name": "Python 3",
   "language": "python",
   "name": "python3"
  },
  "language_info": {
   "codemirror_mode": {
    "name": "ipython",
    "version": 3
   },
   "file_extension": ".py",
   "mimetype": "text/x-python",
   "name": "python",
   "nbconvert_exporter": "python",
   "pygments_lexer": "ipython3",
   "version": "3.6.1"
  }
 },
 "nbformat": 4,
 "nbformat_minor": 2
}

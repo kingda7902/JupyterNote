{
 "cells": [
  {
   "cell_type": "markdown",
   "metadata": {},
   "source": [
    "## 104爬蟲\n",
    "[104 API](http://www.104.com.tw/i/api_doc/jobsearch/documentation.cfm#this)"
   ]
  },
  {
   "cell_type": "code",
   "execution_count": 2,
   "metadata": {
    "collapsed": true
   },
   "outputs": [],
   "source": [
    "import requests\n",
    "from bs4 import BeautifulSoup"
   ]
  },
  {
   "cell_type": "code",
   "execution_count": 7,
   "metadata": {},
   "outputs": [
    {
     "data": {
      "text/plain": [
       "<Response [200]>"
      ]
     },
     "execution_count": 7,
     "metadata": {},
     "output_type": "execute_result"
    }
   ],
   "source": [
    "print(requests.get(\"http://www.104.com.tw/i/apis/jobsearch.cfm?cat=2007001006&role=1,4&fmt=2\"))\n",
    "res = requests.get(\"http://www.104.com.tw/i/apis/jobsearch.cfm?cat=2007001006&role=1,\\\n",
    "                    4&fmt=8&cols=J,JOB,NAME,PCSKILL_ALL_DESC,JOBSKILL_ALL_DESC\")\n",
    "\n",
    "res"
   ]
  },
  {
   "cell_type": "code",
   "execution_count": 9,
   "metadata": {},
   "outputs": [
    {
     "data": {
      "text/plain": [
       "{'PAGE': '1',\n",
       " 'PAGECOUNT': '20',\n",
       " 'RECORDCOUNT': '4515',\n",
       " 'TOTALPAGE': '226',\n",
       " 'data': [{'J': '474d45284349435934353d664741391d04b3d466f4f494124242424663c642928654j55',\n",
       "   'JOB': 'MIS程式設計師',\n",
       "   'JOBSKILL_ALL_DESC': '',\n",
       "   'NAME': 'ic! berlin總代理_嘉晏光學股份有限公司',\n",
       "   'PCSKILL_ALL_DESC': ''},\n",
       "  {'J': '43514a756573502c435f412643353d6643f4149723b3d456e434941242424246974b41493816j51',\n",
       "   'JOB': 'JN-電商平台 前端工程師 50K-70K*13',\n",
       "   'JOBSKILL_ALL_DESC': '',\n",
       "   'NAME': '新加坡商立可人事顧問有限公司台灣分公司',\n",
       "   'PCSKILL_ALL_DESC': ''},\n",
       "  {'J': '614149756573502c435f412643353d6643f4149723b3d456e434941242424242084b51493816j49',\n",
       "   'JOB': 'JN- 軟體公司徵.NET Engineer 月薪6-8萬*14個月',\n",
       "   'JOBSKILL_ALL_DESC': '',\n",
       "   'NAME': '新加坡商立可人事顧問有限公司台灣分公司',\n",
       "   'PCSKILL_ALL_DESC': ''},\n",
       "  {'J': '4c684b735464475e393a426b566c3e6a744524b74666446292929292740592e2d008j99',\n",
       "   'JOB': 'Internet前端工程師',\n",
       "   'JOBSKILL_ALL_DESC': '',\n",
       "   'NAME': '宇萌數位科技股份有限公司',\n",
       "   'PCSKILL_ALL_DESC': ''},\n",
       "  {'J': '5e64462b4c4a435a35363e6752683a664404e477062604225252525203d552a29745j01',\n",
       "   'JOB': 'Android開發工程師',\n",
       "   'JOBSKILL_ALL_DESC': '',\n",
       "   'NAME': '宇萌數位科技股份有限公司',\n",
       "   'PCSKILL_ALL_DESC': ''},\n",
       "  {'J': '654d466f3f5f425934353d665167396533f4d466f615f4124242424223c642928654j53',\n",
       "   'JOB': 'java程式設計師,軟體程式設計師',\n",
       "   'JOBSKILL_ALL_DESC': '',\n",
       "   'NAME': '宇萌數位科技股份有限公司',\n",
       "   'PCSKILL_ALL_DESC': ''},\n",
       "  {'J': '3a3c45703a38425833343c655066386423e4c456e605e40232323231e3c2d2827563j97',\n",
       "   'JOB': 'PHP 程式設計師',\n",
       "   'JOBSKILL_ALL_DESC': '',\n",
       "   'NAME': '宇萌數位科技股份有限公司',\n",
       "   'PCSKILL_ALL_DESC': ''},\n",
       "  {'J': '3d4b446f5f6d4a265b433c22352f37608393b436c35373f683d433b1e1e1e1e620473b613270j00',\n",
       "   'JOB': '程式設計師',\n",
       "   'JOBSKILL_ALL_DESC': '系統維護操作 軟體程式設計 網路程式設計',\n",
       "   'NAME': '台中市私立學盟文理短期補習班',\n",
       "   'PCSKILL_ALL_DESC': 'AJAX Java Dreamweaver HTML JavaScript Flash Unity3D'},\n",
       "  {'J': '3e4c462a5c6e4b274a443c225430386193a3c446d363840693e443c1f1f1f1f1e1463c5e3361j01',\n",
       "   'JOB': 'Android App 工程師',\n",
       "   'JOBSKILL_ALL_DESC': '',\n",
       "   'NAME': '愛虎數位娛樂有限公司',\n",
       "   'PCSKILL_ALL_DESC': ''},\n",
       "  {'J': '3d4b45295b6d4a2649433b21532f37608393b436c35373f683d433b1e1e1e1e1d0453b613270j00',\n",
       "   'JOB': 'IOS App 工程師',\n",
       "   'JOBSKILL_ALL_DESC': '',\n",
       "   'NAME': '愛虎數位娛樂有限公司',\n",
       "   'PCSKILL_ALL_DESC': ''},\n",
       "  {'J': '603c456d606e4b274a443c225430386193a3c446d363840693e443c1f1f1f1f1d0474c5e3361j48',\n",
       "   'JOB': '遊戲App工程師',\n",
       "   'JOBSKILL_ALL_DESC': '',\n",
       "   'NAME': '愛虎數位娛樂有限公司',\n",
       "   'PCSKILL_ALL_DESC': ''},\n",
       "  {'J': '64624470606e4b274a443c225430386193a3c446d363840693e443c1f1f1f1f1c9483c5e3361j52',\n",
       "   'JOB': '網頁前端工程師',\n",
       "   'JOBSKILL_ALL_DESC': '使用者介面設計 網頁軟體操作 網頁語法撰寫',\n",
       "   'NAME': '愛虎數位娛樂有限公司',\n",
       "   'PCSKILL_ALL_DESC': 'HTML JavaScript jQuery'},\n",
       "  {'J': '3a3c45263648425833343c653a66381e1464c456f4e384223232323663c2d2827563j97',\n",
       "   'JOB': 'GIS程式設計師(內湖)',\n",
       "   'JOBSKILL_ALL_DESC': '',\n",
       "   'NAME': '坤眾科技股份有限公司',\n",
       "   'PCSKILL_ALL_DESC': 'C++.Net MySQL Oracle'},\n",
       "  {'J': '516547735f61445b36373f683d693b219494f4872513b4526262626263e402b2a735j49',\n",
       "   'JOB': '軟體設計工程師(台中)',\n",
       "   'JOBSKILL_ALL_DESC': '',\n",
       "   'NAME': '坤眾科技股份有限公司',\n",
       "   'PCSKILL_ALL_DESC': 'AJAX ASP.NET Visual Basic Visual C# Visual Studio .net MS SQL Oracle'},\n",
       "  {'J': '6462446e5838425833343c655066396313e3c452b4e3842232323231f3c2d2827563j52',\n",
       "   'JOB': '一路報導\\u3000網頁設計師',\n",
       "   'JOBSKILL_ALL_DESC': '電腦繪圖軟體操作 網頁軟體操作 網頁語法撰寫',\n",
       "   'NAME': '台灣今品股份有限公司',\n",
       "   'PCSKILL_ALL_DESC': 'MySQL Dreamweaver HTML JavaScript jQuery Adobe Photoshop Illustrator'},\n",
       "  {'J': '656346705d6f4c233b6b3e663b31396203b3d456e3739416a3f453d202020201d047735b3452j53',\n",
       "   'JOB': 'iOS 軟體工程師',\n",
       "   'JOBSKILL_ALL_DESC': '',\n",
       "   'NAME': '日康科技有限公司',\n",
       "   'PCSKILL_ALL_DESC': ''},\n",
       "  {'J': '6375472b394b455b36373f6831333b675513f4773493b45262626266b3e402b2a735j51',\n",
       "   'JOB': 'Android app 工程師(工程技術部/數位開發中心)',\n",
       "   'JOBSKILL_ALL_DESC': '',\n",
       "   'NAME': 'TVBS_聯利媒體股份有限公司',\n",
       "   'PCSKILL_ALL_DESC': ''},\n",
       "  {'J': '436f412733353f5530313962432d361b85d49426d3f5b3d202020201e373a2524290j51',\n",
       "   'JOB': '程式設計師',\n",
       "   'JOBSKILL_ALL_DESC': '系統維護操作 軟體程式設計 網路程式設計 資料庫程式設計 文書處理軟體操作',\n",
       "   'NAME': '華固建設股份有限公司',\n",
       "   'PCSKILL_ALL_DESC': 'AJAX ASP ASP.NET C# MS SQL DHTML HTML JavaScript jQuery'},\n",
       "  {'J': '6375472b494b435b36373f6839333b1f2553f472d513b4526262626213e402b2a735j51',\n",
       "   'JOB': '軟體設計工程師',\n",
       "   'JOBSKILL_ALL_DESC': '',\n",
       "   'NAME': '佑華微電子股份有限公司',\n",
       "   'PCSKILL_ALL_DESC': 'C C# C++'},\n",
       "  {'J': '434d472b5d6f425934353d663f413a6313f4d467161394324242424693c642928654j51',\n",
       "   'JOB': '軟體工程師',\n",
       "   'JOBSKILL_ALL_DESC': '',\n",
       "   'NAME': '順泰電子科技股份有限公司',\n",
       "   'PCSKILL_ALL_DESC': 'Linux AJAX Java PHP Python Ruby MySQL Vmware Dreamweaver JavaScript Web Master/Developer XHTML jQuery Excel'}]}"
      ]
     },
     "execution_count": 9,
     "metadata": {},
     "output_type": "execute_result"
    }
   ],
   "source": [
    "res.json()"
   ]
  },
  {
   "cell_type": "code",
   "execution_count": null,
   "metadata": {
    "collapsed": true
   },
   "outputs": [],
   "source": []
  }
 ],
 "metadata": {
  "kernelspec": {
   "display_name": "Python 3",
   "language": "python",
   "name": "python3"
  },
  "language_info": {
   "codemirror_mode": {
    "name": "ipython",
    "version": 3
   },
   "file_extension": ".py",
   "mimetype": "text/x-python",
   "name": "python",
   "nbconvert_exporter": "python",
   "pygments_lexer": "ipython3",
   "version": "3.6.1"
  }
 },
 "nbformat": 4,
 "nbformat_minor": 2
}

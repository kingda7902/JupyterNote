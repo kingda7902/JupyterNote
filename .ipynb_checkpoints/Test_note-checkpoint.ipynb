{
 "cells": [
  {
   "cell_type": "markdown",
   "metadata": {},
   "source": [
    "# 紀錄一些雜項\n",
    "* [True or False]( http://localhost:8888/notebooks/Documents/GitHub/JupyterNote/Test_note.ipynb#轉型 )\n",
    "* 轉型"
   ]
  },
  {
   "cell_type": "markdown",
   "metadata": {},
   "source": [
    "## markdown\n",
    "\n",
    "### 連結\n",
    "Markdown支援兩種形式的連結語法：行內和參考兩種形式。\n",
    "不管是哪一種，連結的文字都是用 [方括號] 來標記。  \n",
    "\n",
    "This is [an example](http://example.com/ \"Title\") inline link.  \n",
    "        `This is [an example](http://example.com/ \"Title\") inline link.`\n",
    "\n",
    "[This link](http://example.net/) has no title attribute.  \n",
    "         `[This link](http://example.net/) has no title attribute.`\n",
    "\n",
    "This is [an example] [id] reference-style link.  \n",
    "[id]: http://example.com/  \"Optional Title Here\"  \n",
    "        This is [an example] [id] reference-style link.\n",
    "        [id]: http://example.com/  \"Optional Title Here\"\n",
    "\n",
    "[Google][]  \n",
    "[Google]: http://www.google.com/  \n",
    "        [Google][]\n",
    "        [Google]: http://www.google.com/`"
   ]
  },
  {
   "cell_type": "markdown",
   "metadata": {},
   "source": [
    "## True or False\n",
    "奇怪的東西  \n",
    "> 在python True != False   != 1 $\\to$ True != False  and False != 1"
   ]
  },
  {
   "cell_type": "code",
   "execution_count": 1,
   "metadata": {},
   "outputs": [
    {
     "name": "stdout",
     "output_type": "stream",
     "text": [
      "True\n",
      "False\n",
      "False\n"
     ]
    }
   ],
   "source": [
    "print(   True != False   != 1) \n",
    "print( ( True != False ) != 1)\n",
    "print(   True != ( False != 1) ) "
   ]
  },
  {
   "cell_type": "markdown",
   "metadata": {},
   "source": [
    "## 轉型\n",
    "$\\because$ input() $\\rightarrow$ string  \n",
    " "
   ]
  },
  {
   "cell_type": "code",
   "execution_count": 8,
   "metadata": {},
   "outputs": [
    {
     "name": "stdout",
     "output_type": "stream",
     "text": [
      "<class 'complex'>\n",
      "2.23606797749979\n"
     ]
    }
   ],
   "source": [
    "#complex number\n",
    "z = 1 + 2j\n",
    "print(type(z))\n",
    "print(abs(z))"
   ]
  },
  {
   "cell_type": "code",
   "execution_count": 16,
   "metadata": {},
   "outputs": [
    {
     "name": "stdout",
     "output_type": "stream",
     "text": [
      "(-1-1.2246467991473532e-16j)\n",
      "2.718281828459045\n"
     ]
    }
   ],
   "source": [
    "#math \n",
    "import math \n",
    "print((math.e)**((-1j)* math.pi))\n",
    "print(math.exp(1)) #return float"
   ]
  },
  {
   "cell_type": "code",
   "execution_count": 9,
   "metadata": {},
   "outputs": [
    {
     "name": "stdout",
     "output_type": "stream",
     "text": [
      "123466\n"
     ]
    }
   ],
   "source": [
    "s = '123456'\n",
    "print(10 + int(s))"
   ]
  },
  {
   "cell_type": "code",
   "execution_count": null,
   "metadata": {
    "collapsed": true
   },
   "outputs": [],
   "source": []
  },
  {
   "cell_type": "markdown",
   "metadata": {},
   "source": [
    "## harkerrank code30 day10"
   ]
  },
  {
   "cell_type": "code",
   "execution_count": 5,
   "metadata": {},
   "outputs": [
    {
     "name": "stdout",
     "output_type": "stream",
     "text": [
      "0b110011101110\n",
      "3\n"
     ]
    }
   ],
   "source": [
    "import sys\n",
    "\n",
    "n = 3310#int(input().strip())\n",
    "\n",
    "b = bin(n)\n",
    "print(b)\n",
    "cnt = 1\n",
    "length = 1\n",
    "for i in range(1,len(b)) :\n",
    "    if b[i] is b[i-1] and b[i] == '1':\n",
    "        cnt = cnt + 1\n",
    "        length = max(length, cnt)\n",
    "    else :\n",
    "        cnt = 1\n",
    "print(length)"
   ]
  },
  {
   "cell_type": "markdown",
   "metadata": {
    "collapsed": true
   },
   "source": [
    "## harkerrank day11"
   ]
  },
  {
   "cell_type": "code",
   "execution_count": null,
   "metadata": {
    "collapsed": true
   },
   "outputs": [],
   "source": [
    "import sys\n",
    "\n",
    "\n",
    "arr = []\n",
    "for arr_i in range(6):\n",
    "   arr_t = [int(arr_temp) for arr_temp in input().strip().split(' ')]\n",
    "   arr.append(arr_t)\n",
    "\n",
    "\n"
   ]
  },
  {
   "cell_type": "code",
   "execution_count": null,
   "metadata": {
    "collapsed": true
   },
   "outputs": [],
   "source": []
  }
 ],
 "metadata": {
  "kernelspec": {
   "display_name": "Python 3",
   "language": "python",
   "name": "python3"
  },
  "language_info": {
   "codemirror_mode": {
    "name": "ipython",
    "version": 3
   },
   "file_extension": ".py",
   "mimetype": "text/x-python",
   "name": "python",
   "nbconvert_exporter": "python",
   "pygments_lexer": "ipython3",
   "version": "3.6.1"
  }
 },
 "nbformat": 4,
 "nbformat_minor": 2
}

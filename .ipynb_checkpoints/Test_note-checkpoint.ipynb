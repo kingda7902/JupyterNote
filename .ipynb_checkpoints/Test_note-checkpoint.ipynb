{
 "cells": [
  {
   "cell_type": "markdown",
   "metadata": {},
   "source": [
    "# 紀錄一些雜項\n",
    "* [True or False]( http://localhost:8888/notebooks/Documents/GitHub/JupyterNote/Test_note.ipynb#轉型 )\n",
    "* 轉型"
   ]
  },
  {
   "cell_type": "markdown",
   "metadata": {},
   "source": [
    "## markdown\n",
    "\n",
    "### 連結\n",
    "Markdown支援兩種形式的連結語法：行內和參考兩種形式。\n",
    "不管是哪一種，連結的文字都是用 [方括號] 來標記。  \n",
    "\n",
    "This is [an example](http://example.com/ \"Title\") inline link.  \n",
    "        `This is [an example](http://example.com/ \"Title\") inline link.`\n",
    "\n",
    "[This link](http://example.net/) has no title attribute.  \n",
    "         `[This link](http://example.net/) has no title attribute.`\n",
    "\n",
    "This is [an example] [id] reference-style link.  \n",
    "[id]: http://example.com/  \"Optional Title Here\"  \n",
    "        This is [an example] [id] reference-style link.\n",
    "        [id]: http://example.com/  \"Optional Title Here\"\n",
    "\n",
    "[Google][]  \n",
    "[Google]: http://www.google.com/  \n",
    "        [Google][]\n",
    "        [Google]: http://www.google.com/`"
   ]
  },
  {
   "cell_type": "markdown",
   "metadata": {},
   "source": [
    "## True or False\n",
    "奇怪的東西  \n",
    "> 在python True != False   != 1 $\\to$ True != False  and False != 1"
   ]
  },
  {
   "cell_type": "code",
   "execution_count": 1,
   "metadata": {},
   "outputs": [
    {
     "name": "stdout",
     "output_type": "stream",
     "text": [
      "True\n",
      "False\n",
      "False\n"
     ]
    }
   ],
   "source": [
    "print(   True != False   != 1) \n",
    "print( ( True != False ) != 1)\n",
    "print(   True != ( False != 1) ) "
   ]
  },
  {
   "cell_type": "markdown",
   "metadata": {},
   "source": [
    "## 轉型\n",
    "$\\because$ input() $\\rightarrow$ string  \n",
    " "
   ]
  },
  {
   "cell_type": "code",
   "execution_count": 8,
   "metadata": {},
   "outputs": [
    {
     "name": "stdout",
     "output_type": "stream",
     "text": [
      "<class 'complex'>\n",
      "2.23606797749979\n"
     ]
    }
   ],
   "source": [
    "#complex number\n",
    "z = 1 + 2j\n",
    "print(type(z))\n",
    "print(abs(z))"
   ]
  },
  {
   "cell_type": "code",
   "execution_count": 16,
   "metadata": {},
   "outputs": [
    {
     "name": "stdout",
     "output_type": "stream",
     "text": [
      "(-1-1.2246467991473532e-16j)\n",
      "2.718281828459045\n"
     ]
    }
   ],
   "source": [
    "#math \n",
    "import math \n",
    "print((math.e)**((-1j)* math.pi))\n",
    "print(math.exp(1)) #return float"
   ]
  },
  {
   "cell_type": "code",
   "execution_count": 9,
   "metadata": {},
   "outputs": [
    {
     "name": "stdout",
     "output_type": "stream",
     "text": [
      "123466\n"
     ]
    }
   ],
   "source": [
    "s = '123456'\n",
    "print(10 + int(s))"
   ]
  },
  {
   "cell_type": "markdown",
   "metadata": {},
   "source": [
    "## harkerrank code30 day10"
   ]
  },
  {
   "cell_type": "code",
   "execution_count": 5,
   "metadata": {},
   "outputs": [
    {
     "name": "stdout",
     "output_type": "stream",
     "text": [
      "0b110011101110\n",
      "3\n"
     ]
    }
   ],
   "source": [
    "import sys\n",
    "\n",
    "n = 3310#int(input().strip())\n",
    "\n",
    "b = bin(n)\n",
    "print(b)\n",
    "cnt = 1\n",
    "length = 1\n",
    "for i in range(1,len(b)) :\n",
    "    if b[i] is b[i-1] and b[i] == '1':\n",
    "        cnt = cnt + 1\n",
    "        length = max(length, cnt)\n",
    "    else :\n",
    "        cnt = 1\n",
    "print(length)"
   ]
  },
  {
   "cell_type": "markdown",
   "metadata": {
    "collapsed": true
   },
   "source": [
    "## harkerrank day11"
   ]
  },
  {
   "cell_type": "code",
   "execution_count": null,
   "metadata": {
    "collapsed": true
   },
   "outputs": [],
   "source": [
    "import sys\n",
    "\n",
    "\n",
    "arr = []\n",
    "for arr_i in range(6):\n",
    "   arr_t = [int(arr_temp) for arr_temp in input().strip().split(' ')]\n",
    "   arr.append(arr_t)\n",
    "\n",
    "#determine hourglass and make sum\n",
    "hgSum = []\n",
    "l = list(range(3))\n",
    "for i in len(arr):\n",
    "    for j in (arr[i]):\n",
    "        if arr[i][j] != 0 :\n",
    "            tmpls = [arr[]]\n",
    "\n"
   ]
  },
  {
   "cell_type": "code",
   "execution_count": 1,
   "metadata": {},
   "outputs": [
    {
     "name": "stdout",
     "output_type": "stream",
     "text": [
      "The Zen of Python, by Tim Peters\n",
      "\n",
      "Beautiful is better than ugly.\n",
      "Explicit is better than implicit.\n",
      "Simple is better than complex.\n",
      "Complex is better than complicated.\n",
      "Flat is better than nested.\n",
      "Sparse is better than dense.\n",
      "Readability counts.\n",
      "Special cases aren't special enough to break the rules.\n",
      "Although practicality beats purity.\n",
      "Errors should never pass silently.\n",
      "Unless explicitly silenced.\n",
      "In the face of ambiguity, refuse the temptation to guess.\n",
      "There should be one-- and preferably only one --obvious way to do it.\n",
      "Although that way may not be obvious at first unless you're Dutch.\n",
      "Now is better than never.\n",
      "Although never is often better than *right* now.\n",
      "If the implementation is hard to explain, it's a bad idea.\n",
      "If the implementation is easy to explain, it may be a good idea.\n",
      "Namespaces are one honking great idea -- let's do more of those!\n"
     ]
    }
   ],
   "source": [
    "import this"
   ]
  },
  {
   "cell_type": "code",
   "execution_count": 5,
   "metadata": {},
   "outputs": [
    {
     "data": {
      "text/plain": [
       "['__builtins__',\n",
       " '__cached__',\n",
       " '__doc__',\n",
       " '__file__',\n",
       " '__loader__',\n",
       " '__name__',\n",
       " '__package__',\n",
       " '__spec__',\n",
       " 'c',\n",
       " 'd',\n",
       " 'i',\n",
       " 's']"
      ]
     },
     "execution_count": 5,
     "metadata": {},
     "output_type": "execute_result"
    }
   ],
   "source": [
    "dir(this)"
   ]
  },
  {
   "cell_type": "markdown",
   "metadata": {
    "collapsed": true
   },
   "source": [
    "## 原價屋練習\n"
   ]
  },
  {
   "cell_type": "code",
   "execution_count": 10,
   "metadata": {
    "collapsed": true
   },
   "outputs": [],
   "source": [
    "import requests\n",
    "from bs4 import BeautifulSoup\n",
    "import re\n",
    "\n",
    "uRL = 'http://www.coolpc.com.tw/evaluate.php'\n",
    "\n",
    "res = requests.get(uRL)\n",
    "soup = BeautifulSoup(res.text , 'lxml')"
   ]
  },
  {
   "cell_type": "code",
   "execution_count": 52,
   "metadata": {},
   "outputs": [
    {
     "data": {
      "text/plain": [
       "<optgroup label=\"2.5吋 SATA3 SSD 固態硬碟\">\n",
       "<option value=\"2\">金士頓 A400 240G/7mm/讀:500M/寫:450M/TLC顆粒【三年保】, $2600 ★\n",
       "</option><option value=\"3\">金士頓 A400 480G/7mm/讀:500M/寫:450M/TLC顆粒【三年保】, $4588 ★\n",
       "</option><option value=\"4\">金士頓SSDNow UV400 240G雞年限定版(含升級套件組)【三年保】, $2988 ★\n",
       "</option><option value=\"5\">金士頓 UV400 120G/7mm/讀:550M/寫:350M/Marvell/TLC顆粒【三年保】, $1650 ◆ ★\n",
       "</option><option value=\"6\">金士頓 UV400 240G/7mm/讀:550M/寫:490M/Marvell/TLC顆粒【三年保】, $2630 ◆ ★\n",
       "</option><option class=\"r\" value=\"7\">金士頓 UV400 240G/7mm/讀:550M/寫:490M/Marvell/TLC顆粒【三年保】..組裝價, $2580 ◆ ★ 熱賣\n",
       "</option><option value=\"8\">金士頓 UV400 480G/7mm/讀:550M/寫:500M/Marvell/TLC顆粒【三年保】, $4288 ◆ ★\n",
       "</option><option value=\"9\">金士頓 UV400 960G/7mm/讀:550M/寫:500M/Marvell/TLC顆粒【三年保】, $9100 ◆ ★\n",
       "</option><option value=\"10\">金士頓 V300 240G/7mm/讀:450M/寫:450M/MLC顆粒【三年保】, $2650 ◆ ★\n",
       "</option><option value=\"11\">金士頓 HyperX FURY 120G/7mm/讀:500M/寫:500M/MLC顆粒【三年保】, $1750 ◆ ★\n",
       "</option><option value=\"12\">UMAX S300 240G/7mm讀:540M/寫:490M/SMI/TLC顆粒【三年保】, $2299 ◆ ★\n",
       "</option><option class=\"r\" value=\"13\">UMAX S350 256GB /7mm 讀:560MB寫:500MB/3D NAND Flash【三年保】, $2588 ★ 熱賣\n",
       "</option><option class=\"r\" value=\"14\">SanDisk X400 128G/7mm讀:540M/寫:340M/Marvell/TLC顆粒/【五年保】, $1770 ◆ ★ 熱賣\n",
       "</option><option class=\"b\" value=\"15\">SanDisk X400 256G/7mm讀:540M/寫:520M/Marvell/TLC顆粒/【五年保】, $2990↘$2900 ◆ ★ 熱賣\n",
       "</option><option class=\"g\" value=\"16\">SanDisk X400 512G/7mm讀:540M/寫:520M/Marvell/TLC顆粒/【五年保】, $5199↘$5150 ◆ ★\n",
       "</option><option class=\"g\" value=\"17\">SanDisk X400 1TB/7mm讀:540M/寫:520M/Marvell/TLC顆粒/【五年保】, $10150↘$9600 ◆ ★\n",
       "</option><option value=\"18\">Liteon MUIII 240G/7mm讀:555M/寫:470M/TLC顆粒【三年保】, $2250 ◆ ★\n",
       "</option><option class=\"g\" value=\"19\">Liteon MUIII Rock 120G/7mm讀:530M/寫:290M/MLC顆粒【三年保】, $1690↘$1588 ★\n",
       "</option><option class=\"g\" value=\"20\">Liteon MUIII Rock 240G/7mm讀:530M/寫:420M/MLC顆粒【三年保】, $2750↘$2488 ★\n",
       "</option><option class=\"r\" value=\"21\">Intel DC S3520系列 150G/讀:450M/寫:380M/MLC顆粒/五年【五年保】伺服器嚴選, $2999 ★ 熱賣\n",
       "</option><option value=\"22\">Intel 540s系列 480G/7mm/讀:560M/寫:480M/TLC顆粒/五年【五年保】, $5500 ◆ ★\n",
       "</option><option value=\"23\">威剛 Ultimate SU800 128G/7mm/讀:560M/寫:520M/TLC顆粒【三年保】, $1580 ◆ ★\n",
       "</option><option class=\"b\" value=\"24\">威剛 Ultimate SU800 256G/7mm/讀:560M/寫:520M/TLC顆粒【三年保】, $2750↘$2680 ◆ ★ 熱賣\n",
       "</option><option value=\"25\">威剛 Ultimate SU800 512G/7mm/讀:560M/寫:520M/TLC顆粒【三年保】, $4899 ◆ ★\n",
       "</option><option class=\"g\" value=\"26\">創見 230S系列 128G/7mm/讀:560M/寫:520M/TLC顆粒【三年保】, $1749↘$1650 ★\n",
       "</option><option value=\"27\">創見 230S系列 128G/7mm/讀:560M/寫:520M/TLC顆粒【三年保】..組裝價, $1550 ★\n",
       "</option><option class=\"g\" value=\"28\">創見 230S系列 256G/7mm/讀:560M/寫:520M/TLC顆粒【三年保】, $2849↘$2650 ★\n",
       "</option><option class=\"g\" value=\"29\">創見 230S系列 256G/7mm/讀:560M/寫:520M/TLC顆粒【三年保】..組裝價, $2688↘$2550 ★\n",
       "</option><option class=\"g\" value=\"30\">創見 230S系列 512G/7mm/讀:560M/寫:520M/TLC顆粒【三年保】, $5299↘$4999 ★\n",
       "</option><option class=\"g\" value=\"31\">創見 230S系列 512G/7mm/讀:560M/寫:520M/TLC顆粒【三年保】..組裝價, $4888↘$4688 ★\n",
       "</option><option value=\"32\">創見 340K系列 128G/7mm/讀:520M/寫:150M/MLC顆粒【三年保】, $1680 ◆ ★\n",
       "</option><option value=\"33\">創見 340K系列 128G/7mm/讀:520M/寫:150M/MLC顆粒【三年保】..組裝價, $1599 ◆ ★\n",
       "</option><option value=\"34\">創見 340K系列 256G/7mm/讀:520M/寫:290M/MLC顆粒【三年保】, $2900 ◆ ★\n",
       "</option><option value=\"35\">創見 370S系列 128G/7mm/讀:570M/寫:170M/MLC顆粒【三年保】, $1850 ◆ ★\n",
       "</option><option value=\"36\">創見 370S系列 256G/7mm/讀:570M/寫:310M/MLC顆粒【三年保】, $3570 ◆ ★\n",
       "</option><option class=\"r\" value=\"37\">創見 370S系列 512G/7mm/讀:570M/寫:470M/MLC顆粒【加送多功能硬殼旅行收納盒】, $5888 ◆ ★ 熱賣\n",
       "</option><option class=\"g\" value=\"38\">創見 370S系列 1TB/7mm/讀:560M/寫:460M/MLC顆粒【三年保】, $12600↘$11900 ◆ ★\n",
       "</option><option value=\"39\">Toshiba A100 240G/7mm/讀:550M/寫:480M/TLC顆粒【三年保】, $2650 ◆ ★\n",
       "</option><option class=\"g\" value=\"40\">美光 MX300 275G/7mm/讀:530M/寫:500M/TLC顆粒【三年保】, $2750↘$2730 ◆ ★\n",
       "</option><option class=\"g\" value=\"41\">美光 MX300 525G/7mm/讀:530M/寫:510M/TLC顆粒【三年保】, $4399↘$4350 ◆ ★\n",
       "</option><option value=\"42\">美光 MX300 525G/7mm/讀:530M/寫:510M/TLC顆粒【三年保】..組裝價, $4250 ◆ ★\n",
       "</option><option class=\"g\" value=\"43\">美光 MX300 1050G/7mm/讀:530M/寫:510M/TLC顆粒【三年保】, $8950↘$8800 ◆ ★\n",
       "</option><option value=\"44\">美光 MX300 1050G/7mm/讀:530M/寫:510M/TLC顆粒【三年保】..組裝價, $8500 ◆ ★\n",
       "</option><option class=\"g\" value=\"45\">美光 MX300 2050G/7mm/讀:530M/寫:510M/TLC顆粒【三年保】, $18400↘$18300 ◆ ★\n",
       "</option><option value=\"46\">WD Green 120G(綠標)/7mm/讀:540M/寫:430M/TLC顆粒【三年保】, $1499 ◆ ★\n",
       "</option><option class=\"g\" value=\"47\">WD Blue 250G(藍標)/7mm/讀:540M/寫:500M/TLC顆粒【三年保】, $2499↘$2470 ◆ ★\n",
       "</option><option value=\"48\">WD Blue 500G(藍標)/7mm/讀:545M/寫:525M/TLC顆粒【三年保】, $4650 ◆ ★\n",
       "</option><option class=\"g\" value=\"49\">WD Blue 1TB(藍標)/7mm/讀:545M/寫:525M/TLC顆粒【三年保】, $8800↘$8750 ◆ ★\n",
       "</option><optgroup label=\"m-SATA SSD固態硬碟\">\n",
       "<option value=\"51\">金士頓 mS200 120G/m-SATA/讀:550M/寫:520M/MLC顆粒【三年保】, $1650 ◆ ★\n",
       "</option><option value=\"52\">金士頓 mS200 240G/m-SATA/讀:550M/寫:520M/MLC顆粒【三年保】, $2850 ◆ ★\n",
       "</option><optgroup label=\"M.2 (SATA) SSD固態碟\">\n",
       "<option value=\"54\">金士頓 480G/M.2 SATA 2280/讀:550M/寫:520M/MLC顆粒/五年保, $5246 ◆ ★\n",
       "</option><option value=\"55\">SanDisk X400 128G/M.2 SATA 2280/讀:540M/寫:340M/Marvell/TLC/企業級五年保, $1799 ◆ ★\n",
       "</option><option value=\"56\">SanDisk X400 256G/M.2 SATA 2280/讀:540M/寫:520M/Marvell/TLC/企業級五年保, $2900 ◆ ★\n",
       "</option><option class=\"g\" value=\"57\">SanDisk X400 512G/M.2 SATA 2280/讀:540M/寫:520M/Marvell/TLC/企業級五年保, $5300↘$5200 ◆ ★\n",
       "</option><option class=\"g\" value=\"58\">SanDisk X400 1TB/M.2 SATA 2280/讀:540M/寫:520M/Marvell/TLC/企業級五年保, $10300↘$9600 ◆ ★\n",
       "</option><option class=\"b\" value=\"59\">Intel 540s系列 240G/M.2 SATA 2280/讀:560M/寫:480M/TLC顆粒/五年, $3200↘$2990 ◆ ★ 熱賣\n",
       "</option><option class=\"r\" value=\"60\">Intel 540s系列 240G/M.2 SATA 2280/讀:560M/寫:480M/TLC顆粒/五年..組裝價, $2800 ◆ ★ 熱賣\n",
       "</option><option value=\"61\">Intel 540s系列 1TB/M.2 SATA 2280/讀:560M/寫:480M/TLC顆粒/五年, $10500 ◆ ★\n",
       "</option><option class=\"g\" value=\"62\">Plextor M7VG 256G/M.2 SATA 2280/讀:560M/寫:520M/TLC顆粒, $3190↘$2990 ★\n",
       "</option><option class=\"g\" value=\"63\">美光Micron Crucial MX300 275G/M.2 SATA 2280/讀:530M/寫:500M/TLC顆粒, $2999↘$2800 ◆ ★\n",
       "</option><option class=\"g\" value=\"64\">美光Micron Crucial MX300 525G/M.2 SATA 2280/讀:530M/寫:500M/TLC顆粒, $4780↘$4450 ◆ ★\n",
       "</option><option class=\"g\" value=\"65\">美光Micron Crucial MX300 525G/M.2 SATA 2280/讀:530M/寫:500M/TLC..組裝價, $4400↘$4300 ◆ ★\n",
       "</option><option class=\"g\" value=\"66\">美光Micron Crucial MX300 1050G/M.2 SATA 2280/讀:530M/寫:500M/TLC顆粒, $8950↘$8900 ◆ ★\n",
       "</option><option class=\"g\" value=\"67\">美光Micron Crucial MX300 1050G/M.2 SATA 2280/讀:530M/寫:500M/TLC顆粒..組裝價, $8600↘$8500 ◆ ★\n",
       "</option><option value=\"68\">Plextor S2G 512G/M.2 SATA 2280/讀:520M/寫:480M/TLC顆粒, $4399 ◆ ★\n",
       "</option><option value=\"69\">WD Green 120G/M.2 SATA 2280(綠標)/讀:540M/寫:405M/TLC顆粒, $1630 ◆ ★\n",
       "</option><option value=\"70\">WD Blue 250G/M.2 SATA 2280(藍標)/讀:540M/寫:500M/TLC顆粒, $2730 ◆ ★\n",
       "</option><option value=\"71\">WD Blue 500G/M.2 SATA 2280(藍標)/讀:545M/寫:525M/TLC顆粒, $4630 ◆ ★\n",
       "</option><option class=\"g\" value=\"72\">WD Blue 1TB/M.2 SATA 2280(藍標)/讀:545M/寫:525M/TLC顆粒, $8990↘$8700 ◆ ★\n",
       "</option><optgroup label=\"M.2 (PCIe) SSD固態碟\">\n",
       "<option value=\"74\">Intel Optane Memory 16G 3D Xpoin技術【五年保】, $1590 ★\n",
       "</option><option value=\"75\">Intel Optane Memory 32G 3D Xpoint技術【五年保】, $2550 ★\n",
       "</option><option value=\"76\">Intel 600P 128G/M.2 PCIe 2280/讀:770M/寫:450M/TLC顆粒/五年, $1990 ◆ ★\n",
       "</option><option value=\"77\">Intel 600P 256G/M.2 PCIe 2280/讀:1570M/寫:540M/TLC顆粒/五年, $3800 ◆ ★\n",
       "</option><option class=\"g\" value=\"78\">Intel 600P 1024G/M.2 PCIe 2280/讀:1800M/寫:560M/TLC顆粒/五年, $9999↘$9900 ◆ ★\n",
       "</option><option class=\"g\" value=\"79\">Intel 600P 1024G/M.2 PCIe 2280/讀:1800M/寫:560M/TLC顆粒/五年..組裝價, $9850↘$9700 ◆ ★\n",
       "</option><option class=\"g\" value=\"80\">威剛 XPG SX8000 128G/M.2 PCIe 2280/讀:1000M/寫:550M/MLC顆粒【五年保】, $2450↘$2350 ◆ ★\n",
       "</option><option class=\"g\" value=\"81\">威剛 XPG SX8000 256G/M.2 PCIe 2280/讀:2000M/寫:1100M/MLC顆粒【五年保】, $3899↘$3850 ◆ ★\n",
       "</option><option value=\"82\">威剛 XPG SX8000 512G/M.2 PCIe 2280/讀:2500M/寫:1100M/MLC顆粒【五年保】, $7199 ◆ ★\n",
       "</option><option value=\"83\">WD Black 256G/M.2 PCIe 2280(黑標)/讀:2050M/寫:700M/TLC顆粒【五年保】, $3450 ★\n",
       "</option><option value=\"84\">WD Black 512G/M.2 PCIe 2280(黑標)/讀:2050M/寫:800M/TLC顆粒【五年保】, $5990 ★\n",
       "</option><optgroup label=\"U.2 SSD固態硬碟\">\n",
       "<option value=\"86\">Intel 750系列 400G/2.5\"/讀:2200M/寫:900M/五年, $9800 ◆ ★\n",
       "</option><option value=\"87\">Intel 750系列 1.2TB/2.5\"/讀:2400M/寫:1200M/五年, $24800 ◆ ★\n",
       "</option><optgroup label=\"PCI-E介面 SSD固態硬碟\">\n",
       "<option value=\"89\">金士頓 HyperX Predator 480G/PCIe/讀:1400M/寫:1000M/MLC顆粒, $8800 ◆ ★\n",
       "</option><option value=\"90\">Intel 750系列 400G/PCIe/讀:2200M/寫:900M/MLC顆粒/五年, $9800 ◆ ★\n",
       "</option><option value=\"91\">Intel 750系列 1.2TB/PCIe/讀:2400M/寫:1200M/MLC顆粒/五年, $24800 ◆ ★\n",
       "</option><optgroup label='3.5\" SATA3 HDD'>\n",
       "<option value=\"93\">Seagate 500G (ST500DM009)【新梭魚】64M/7200轉/三年保, $1570 ◆ ★\n",
       "</option><option class=\"b\" value=\"94\">Seagate 1TB (ST1000DM010)【新梭魚】64M/7200轉/三年保, $1689↘$1650 ◆ ★ 熱賣\n",
       "</option><option value=\"95\">Seagate 2TB (ST2000DM006)【新梭魚】64M/7200轉/三年保, $2390 ◆ ★\n",
       "</option><option class=\"g\" value=\"96\">Seagate 3TB (ST3000DM008)【新梭魚】64M/7200轉/三年保, $3429↘$3290 ◆ ★\n",
       "</option><option class=\"g\" value=\"97\">Seagate 4TB (ST4000DM005)【新梭魚】64M/5900轉/三年保, $4449↘$4290 ◆ ★\n",
       "</option><option class=\"g\" value=\"98\">Seagate 6TB (ST6000DM004)【新梭魚 PRO】256M/7200轉/五年保, $9490↘$8890 ◆ ★\n",
       "</option><option value=\"99\">Seagate 8TB (ST8000DM005)【新梭魚 PRO】256M/7200轉/五年保, $11290 ★\n",
       "</option><option value=\"100\">Seagate 10TB (ST10000DM004)【新梭魚 PRO】256M/7200轉/五年保, $14590 ★\n",
       "</option><option class=\"r\" value=\"101\">Seagate 8TB (ST8000AS0002)【冷儲存碟】128M/5900轉/三年保, $8390 ◆ ★ 熱賣\n",
       "</option><option value=\"102\">Seagate 1TB (ST1000DX002)【火梭魚】64M/7200轉/內建8G SSD/五年保, $2699 ◆ ★\n",
       "</option><option value=\"103\">Seagate 2TB (ST2000DX002)【火梭魚】64M/7200轉/8G SSD/五年保, $4149 ◆ ★\n",
       "</option><option value=\"104\">WD 1TB (10EZEX)【藍標】 64M/7200轉/三年保, $1638 ◆ ★\n",
       "</option><option value=\"105\">WD 2TB (20EZRZ)【藍標】 64M/5400轉/三年保, $2349 ◆ ★\n",
       "</option><option class=\"g\" value=\"106\">WD 4TB (40EZRZ)【藍標】 64M/5400轉/三年保, $4448↘$4399 ◆ ★\n",
       "</option><option value=\"107\">WD 6TB (60EZRZ)【藍標】 64M/5400轉/三年保, $7388 ◆ ★\n",
       "</option><option value=\"108\">WD 500G (5003AZEX)【黑標】64M/7200轉/雙處理器/五年保, $2199 ◆ ★\n",
       "</option><option value=\"109\">WD 1TB (1003FZEX)【黑標】64M/7200轉/雙處理器/五年保, $2549 ◆ ★\n",
       "</option><option class=\"g\" value=\"110\">WD 4TB (4004FZWX)【黑標】128M/7200轉/雙處理器 /五年保, $7149↘$6899 ◆ ★\n",
       "</option><option value=\"111\">WD 6TB (6002FZWX)【黑標】128M/7200轉/雙處理器/五年保, $9588 ◆ ★\n",
       "</option><option class=\"g\" value=\"112\">Toshiba 1TB (DT01ACA100)/32M/7200轉/三年保, $1600↘$1599 ◆ ★\n",
       "</option><option value=\"113\">Toshiba 1TB (DT01ACA100)/32M/7200轉/三年保 整機組裝價, $1550 ★\n",
       "</option><option value=\"114\">Toshiba 2TB (DT01ACA200)/64M/7200轉/三年保+贈 華碩U2000鍵盤滑鼠組(價值349), $2189 ◆ ★\n",
       "</option><option value=\"115\">Toshiba 2TB (DT01ACA200)/64M/7200轉/三年保+購 賽德斯 電競耳麥(SA-701) 現省438元, $2450 ◆ ★\n",
       "</option><option value=\"116\">Toshiba 3TB (DT01ACA300)/64M/7200轉/三年保+購物金100元, $2999 ◆ ★\n",
       "</option><option value=\"117\">Toshiba 3TB (DT01ACA300)/64M/7200轉/三年保 整機組裝價, $2690 ◆ ★\n",
       "</option><option value=\"118\">Toshiba 4TB (MD04ACA400)/128M/7200轉/ 三年保+購物金100元, $3889 ◆ ★\n",
       "</option><option value=\"119\">Toshiba 4TB (MD04ACA400)/128M/7200轉/ 三年保 整機組裝價, $3699 ◆ ★\n",
       "</option><option value=\"120\">Toshiba 6TB (MD04ACA600)/128M/7200轉/ 三年保+購物金200元, $6599 ◆ ★\n",
       "</option><option value=\"121\">Toshiba 6TB (MD04ACA600)/128M/7200轉/ 三年保 整機組裝價, $5999 ◆ ★\n",
       "</option><optgroup label='3.5\" SATA3 監控/雲端/NAS/企業 HDD'>\n",
       "<option value=\"123\">Seagate 1TB (ST1000VX005)【監控鷹】64M/5900轉/三年保, $1799 ◆ ★\n",
       "</option><option value=\"124\">Seagate 2TB (ST2000VX008)【監控鷹】64M/5900轉/三年保, $2590 ◆ ★\n",
       "</option><option value=\"125\">Seagate 3TB (ST3000VX010)【監控鷹】64M/5900轉/三年保, $3389 ◆ ★\n",
       "</option><option value=\"126\">Seagate 4TB (ST4000VX007)【監控鷹】64M/5900轉/三年保, $4490 ◆ ★\n",
       "</option><option value=\"127\">Seagate 6TB (ST6000VX0001)【監控碟】128M/7200轉/三年保【限網路下單】, $8650 ★\n",
       "</option><option value=\"128\">Seagate 6TB (ST6000VX0023)【監控鷹】256M/7200轉/三年保, $7790 ◆ ★\n",
       "</option><option value=\"129\">Seagate 8TB (ST8000VX0022)【監控鷹】256M/7200轉/三年保, $10390 ◆ ★\n",
       "</option><option value=\"130\">Seagate 10TB (ST10000VX0004)【監控鷹】256M/7200轉/三年保, $12990 ◆ ★\n",
       "</option><option value=\"131\">Seagate 2TB (ST2000VN004)【那嘶狼】64M/5900轉/三年保, $3050 ◆ ★\n",
       "</option><option value=\"132\">Seagate 2TB (ST2000VN004)【那嘶狼】64M/5900轉/三年保【限搭NAS加購】, $2790 ★\n",
       "</option><option value=\"133\">Seagate 3TB (ST3000VN007)【那嘶狼】64M/5900轉/三年保, $3790 ◆ ★\n",
       "</option><option value=\"134\">Seagate 4TB (ST4000VN008)【那嘶狼】64M/5900轉/三年保, $4990 ◆ ★\n",
       "</option><option value=\"135\">Seagate 4TB (ST4000VN008)【那嘶狼】64M/5900轉/三年保【限搭NAS加購】, $4799 ◆ ★\n",
       "</option><option value=\"136\">Seagate 2TB (ST2000NE0025)【那嘶狼 PRO】128M/7200轉/五年保, $4800 ★\n",
       "</option><option value=\"137\">Seagate 4TB (ST4000NE0025)【那嘶狼 PRO】128M/7200轉/五年保, $7690 ★\n",
       "</option><option value=\"138\">Seagate 6TB (ST6000NE0021)【那嘶狼 PRO】256M/7200轉/五年保, $9590 ★\n",
       "</option><option value=\"139\">Seagate 8TB (ST8000NE0021)【那嘶狼 PRO】256M/7200轉/五年保【訂】, $12790 ★\n",
       "</option><option value=\"140\">Seagate 10TB (ST10000NE0004)【那嘶狼 PRO】256M/7200轉/五年保【訂】, $15990 ★\n",
       "</option><option value=\"141\">Seagate 6TB (ST6000VN0041)【那嘶狼】128M/7200轉/三年保, $8090 ◆ ★\n",
       "</option><option value=\"142\">Seagate 8TB (ST8000VN0022)【那嘶狼】256M/7200轉/三年保, $10790 ◆ ★\n",
       "</option><option value=\"143\">Seagate 10TB (ST10000VN0004)【那嘶狼】256M/7200轉/三年保, $13490 ◆ ★\n",
       "</option><option class=\"b\" value=\"144\">Seagate 6TB (ST6000VN0001)【企業級NAS碟】128MB/7200轉/五年保, $11990↘$7999 ◆ ★ 熱賣\n",
       "</option><option value=\"145\">Seagate 1TB (ST1000NM0008)【企業級】128MB/7200轉/五年保, $3190 ★\n",
       "</option><option value=\"146\">Seagate 2TB (ST2000NM0008)【企業級】128MB/7200轉/五年保, $4790 ★\n",
       "</option><option value=\"147\">Seagate 3TB (ST3000NM0005)【企業級】128MB/7200轉/五年保, $6690 ◆ ★\n",
       "</option><option value=\"148\">Seagate 4TB (ST4000NM0035)【企業級】128MB/7200轉/五年保, $8090 ◆ ★\n",
       "</option><option class=\"g\" value=\"149\">Seagate 6TB (ST6000NM0115)【企業級】128MB/7200轉/五年保, $12790↘$11490 ◆ ★\n",
       "</option><option class=\"g\" value=\"150\">HGST 4TB【NAS碟】128MB/7200轉/三年保, $7100↘$4888 ◆ ★\n",
       "</option><option class=\"g\" value=\"151\">HGST 6TB【NAS碟】128MB/7200轉/三年保, $9499↘$6899 ◆ ★\n",
       "</option><option value=\"152\">HGST 8TB【NAS碟】128MB/7200轉/三年保+【購物金 600元】, $13800 ★\n",
       "</option><option value=\"153\">HGST 8TB【NAS碟】128MB/7200轉/三年保【二顆入】+【購物金 200元】, $18980 ★\n",
       "</option><option value=\"154\">HGST 1TB【企業級】128MB/7200轉/五年保, $2890 ◆ ★\n",
       "</option><option class=\"g\" value=\"155\">HGST 2TB【企業級】128MB/7200轉/五年保, $5700↘$4888 ◆ ★\n",
       "</option><option value=\"156\">HGST 4TB【企業級】128MB/7200轉/五年保+購物金600元, $8390 ◆ ★\n",
       "</option><option value=\"157\">WD 1TB (10EFRX)【NAS碟(紅標)】64M/5400轉/三年保+送技嘉 XMP300 電競鼠墊, $2199 ◆ ★\n",
       "</option><option value=\"158\">WD 2TB (20EFRX)【NAS碟(紅標)】64M/5400轉/三年保+送技嘉 XMP300 電競鼠墊, $3048 ◆ ★\n",
       "</option><option class=\"r\" value=\"159\">WD 3TB (30EFRX)【NAS碟(紅標)】64M/5400轉/三年保+送技嘉 XMP300 電競鼠墊, $3788 ◆ ★ 熱賣\n",
       "</option><option value=\"160\">WD 4TB (40EFRX)【NAS碟(紅標)】64M/5400轉/三年保+送技嘉 XMP300 電競鼠墊, $4999 ◆ ★\n",
       "</option><option value=\"161\">WD 6TB (60EFRX)【NAS碟(紅標)】64M/5400轉/三年保+送技嘉 XMP300 電競鼠墊, $8199 ◆ ★\n",
       "</option><option value=\"162\">WD 8TB (80EFZX)【NAS碟(紅標)】128M/5400轉等級/三年保+送技嘉 XMP300 電競鼠墊, $10490 ◆ ★\n",
       "</option><option value=\"163\">WD 2TB (2002FFSX)【旗艦紅標】64M/7200轉/五年保, $4849 ◆ ★\n",
       "</option><option value=\"164\">WD 4TB (4002FFWX)【旗艦紅標】128M/7200轉/五年保, $7788 ◆ ★\n",
       "</option><option value=\"165\">WD 6TB (6002FFWX)【旗艦紅標】128M/7200轉/五年保【訂】, $9649 ◆ ★\n",
       "</option><option value=\"166\">WD 8TB (8001FFWX)【旗艦紅標】128M/7200轉/五年保【訂】, $13890 ◆ ★\n",
       "</option><option value=\"167\">WD 1TB (10PURZ)【監控碟(紫標)】64M/5400轉/三年保, $1799 ◆ ★\n",
       "</option><option value=\"168\">WD 2TB (20PURZ)【監控碟(紫標)】64M/5400轉/三年保, $2699 ◆ ★\n",
       "</option><option value=\"169\">WD 3TB (30PURZ)【監控碟(紫標)】64M/5400轉/三年保, $3399 ◆ ★\n",
       "</option><option value=\"170\">WD 4TB (40PURZ)【監控碟(紫標)】64M/5400轉/三年保, $4599 ◆ ★\n",
       "</option><option value=\"171\">WD 6TB (60PURZ)【監控碟(紫標)】64M/5400轉/三年保, $7899 ◆ ★\n",
       "</option><option value=\"172\">WD 8TB (80PUZX)【監控碟(紫標)】128M/5400轉/三年保【訂】, $10390 ◆ ★\n",
       "</option><option value=\"173\">WD 10TB (100PURZ)【監控碟(紫標)】128M/5400轉/三年保【訂】, $13390 ◆ ★\n",
       "</option><option value=\"174\">WD 6TB (6001F9YZ)【企業級Se儲存碟】128MB/7200轉/五年保【限網路下單】, $9990 ★\n",
       "</option><option value=\"175\">WD 1TB (1005FBYZ)【企業級(金標)】128MB/7200轉/五年保, $3199 ◆ ★\n",
       "</option><option value=\"176\">WD 2TB (2005FBYZ)【企業級(金標)】128MB/7200轉/五年保, $4899 ◆ ★\n",
       "</option><option class=\"g\" value=\"177\">WD 4TB (4002FYYZ)【企業級(金標)】128MB/7200轉/五年保, $8290↘$7890 ◆ ★\n",
       "</option><option value=\"178\">WD 6TB (6002FRYZ)【企業級(金標)】128MB/7200轉/五年保【訂】, $11490 ◆ ★\n",
       "</option><option value=\"179\">WD 8TB (8002FRYZ)【企業級(金標)】128MB/7200轉/五年保【訂】, $14890 ◆ ★\n",
       "</option><option value=\"180\">WD 10TB (101KRYZ)【企業級(金標)】256MB/7200轉/五年保【訂】, $18690 ◆ ★\n",
       "</option><option class=\"g\" value=\"181\">Toshiba 1TB (DT01ABA100V)【監控碟】32MB/5700轉/三年保, $1700↘$1699 ◆ ★\n",
       "</option><option class=\"g\" value=\"182\">Toshiba 2TB (DT01ABA200V)【監控碟】32MB/5700轉/三年保, $2390↘$2389 ◆ ★\n",
       "</option><option value=\"183\">Toshiba 3TB (DT01ABA300V)【監控碟】32MB/5940轉/三年保, $3189 ◆ ★\n",
       "</option><option value=\"184\">Toshiba 4TB (MD04ABA400V)【監控碟】128MB/5400轉/三年保, $4199 ◆ ★\n",
       "</option><option value=\"185\">Toshiba 4TB(HDWQ140AZSTA) NAS專用碟 128M/7200轉/三年保, $4588 ★\n",
       "</option><option value=\"186\">Toshiba 6TB(HDWN160AZSTA) NAS專用碟 128M/7200轉/三年保, $7899 ★\n",
       "</option><option class=\"g\" value=\"187\">Toshiba 8TB(HDWN180AZSTA) NAS專用碟 128M/7200轉/三年保, $11889↘$9899 ★\n",
       "</option><option value=\"188\">Toshiba 2TB (MC04ACA200E)【雲端碟】128M/7200轉/三年保+購物金400元, $3788 ◆ ★\n",
       "</option><option value=\"189\">Toshiba 3TB (MC04ACA300E)【雲端碟】128M/7200轉/三年保, $4388 ◆ ★\n",
       "</option><option value=\"190\">Toshiba 3TB (MG03ACA300)【Harrier企業級】64M/7200轉/五年【限網路下單】, $4950 ★\n",
       "</option><option value=\"191\">Toshiba 1TB (MG03ACA100)【企業級】64MB/7200轉/五年保, $2888 ◆ ★\n",
       "</option><option value=\"192\">Toshiba 2TB (MG04ACA200E)【企業級】128MB/7200轉/五年保, $4488 ◆ ★\n",
       "</option><option value=\"193\">Toshiba 3TB (MG04ACA300E)【企業級】128MB/7200轉/五年保, $5788 ◆ ★\n",
       "</option><option value=\"194\">Toshiba 4TB (MG04ACA400E)【企業級】128MB/7200轉/五年保, $6888 ◆ ★\n",
       "</option><optgroup label=\"2.5吋 SATA HDD\">\n",
       "<option class=\"r\" value=\"196\">Toshiba 1TB (MQ01ABD100)/8M/5400轉/9.5mm/二年保, $1890 ◆ ★ 熱賣\n",
       "</option><option value=\"197\">Toshiba 1TB (MQ02ABD100H)【混合碟】64M/內建8G SSD/二年保【限網路下單】, $2599 ◆ ★\n",
       "</option><option value=\"198\">HGST 500G /32M/7200轉/7mm/三年保, $1569 ◆ ★\n",
       "</option><option value=\"199\">HGST 1TB /8M【5400轉】9.5mm/三年保, $1790 ★\n",
       "</option><option class=\"r\" value=\"200\">HGST 1TB /32M【7200轉】9.5mm/三年保, $1999 ◆ ★ 熱賣\n",
       "</option><option value=\"201\">Seagate 500G (ST500LM030)/128M/5400轉/7mm薄型/二年保, $1499 ◆ ★\n",
       "</option><option class=\"g\" value=\"202\">Seagate 500G (ST500LX025)【混合碟】128M/內建8G SSD/五年保, $2090↘$1999 ◆ ★\n",
       "</option><option value=\"203\">Seagate 2TB (ST2000LM015)【BarraCuda】新梭魚/128M/二年保, $3399 ★\n",
       "</option><option value=\"204\">Seagate 1TB (ST1000LX015)【火梭魚】128M/內建8G SSD/五年保+贈 銀欣TS 13外接盒, $2299 ◆ ★\n",
       "</option><option class=\"r\" value=\"205\">Seagate 2TB (ST2000LX001)【火梭魚】128M/內建8G SSD/五年保+贈 銀欣TS 13外接盒, $3799 ◆ ★ 熱賣\n",
       "</option><option class=\"g\" value=\"206\">WD 500G (5000LPCX)【藍標】16M/5400轉/7mm/二年保, $1550↘$1499 ◆ ★\n",
       "</option><option class=\"g\" value=\"207\">WD 1TB (10JPVX)【藍標】8M/5400轉/9.5mm /二年保, $1750↘$1749 ◆ ★\n",
       "</option><option value=\"208\">WD 500G (5000LPLX)【黑標】32M/7200轉/7mm/五年保, $1750 ◆ ★\n",
       "</option><option value=\"209\">WD 1TB (10JPLX)【黑標】32M/7200轉/9.5mm/五年保, $2199 ◆ ★\n",
       "</option><option class=\"g\" value=\"210\">WD 1TB (10JFCX)【紅標】16M/NAS專用碟/9.5mm/三年保, $2500↘$2499 ◆ ★\n",
       "</option></optgroup></optgroup></optgroup></optgroup></optgroup></optgroup></optgroup></optgroup></optgroup>"
      ]
     },
     "execution_count": 52,
     "metadata": {},
     "output_type": "execute_result"
    }
   ],
   "source": [
    "hd = soup.find(lambda tag: tag.get('name')=='n7') #name:n7 is all SSD HDD\n",
    "\n",
    "hd.optgroup"
   ]
  },
  {
   "cell_type": "code",
   "execution_count": null,
   "metadata": {
    "collapsed": true
   },
   "outputs": [],
   "source": []
  }
 ],
 "metadata": {
  "kernelspec": {
   "display_name": "Python 3",
   "language": "python",
   "name": "python3"
  },
  "language_info": {
   "codemirror_mode": {
    "name": "ipython",
    "version": 3
   },
   "file_extension": ".py",
   "mimetype": "text/x-python",
   "name": "python",
   "nbconvert_exporter": "python",
   "pygments_lexer": "ipython3",
   "version": "3.6.1"
  }
 },
 "nbformat": 4,
 "nbformat_minor": 2
}

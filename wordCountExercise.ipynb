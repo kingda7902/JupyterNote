{
 "cells": [
  {
   "cell_type": "markdown",
   "metadata": {},
   "source": [
    "# word count \n",
    "environment:window7 Anacanda3 jupyter notebook\n",
    "* 使用windows需要多使用 encoding = 'utf8'  $\\because$ cmd encode depend windowsOS\n"
   ]
  },
  {
   "cell_type": "code",
   "execution_count": 12,
   "metadata": {},
   "outputs": [
    {
     "data": {
      "text/plain": [
       "[('and', 73),\n",
       " ('the', 70),\n",
       " ('of', 48),\n",
       " ('our', 48),\n",
       " ('we', 46),\n",
       " ('will', 40),\n",
       " ('to', 37),\n",
       " ('is', 21),\n",
       " ('america', 17),\n",
       " ('a', 15)]"
      ]
     },
     "execution_count": 12,
     "metadata": {},
     "output_type": "execute_result"
    }
   ],
   "source": [
    "with open('./Trump.txt', encoding = 'utf8') as art :\n",
    "    wordsCount=dict()\n",
    "    for line in art:\n",
    "        line = line.lower().replace(\",\",\"\").replace(\".\",\"\").replace(\"\\n\",\"\")\n",
    "        for word in line.split(): # splite(\" \") has diff result  \n",
    "            if word in wordsCount :\n",
    "                wordsCount[word] +=1\n",
    "            else:\n",
    "                wordsCount[word] = 1\n",
    "                \n",
    "sorted(wordsCount.items(),key=lambda x:-x[1])[:10] \n"
   ]
  },
  {
   "cell_type": "markdown",
   "metadata": {
    "collapsed": true
   },
   "source": [
    "## method2 use collections Counter"
   ]
  },
  {
   "cell_type": "code",
   "execution_count": 8,
   "metadata": {
    "scrolled": true
   },
   "outputs": [
    {
     "data": {
      "text/plain": [
       "[('and', 73),\n",
       " ('the', 70),\n",
       " ('of', 48),\n",
       " ('our', 48),\n",
       " ('we', 46),\n",
       " ('will', 40),\n",
       " ('to', 37),\n",
       " ('is', 21),\n",
       " ('america', 17),\n",
       " ('a', 15)]"
      ]
     },
     "execution_count": 8,
     "metadata": {},
     "output_type": "execute_result"
    }
   ],
   "source": [
    "from collections import Counter\n",
    "\n",
    "with open('./Trump.txt', encoding = 'utf8') as art :\n",
    "    cnt = Counter()\n",
    "    for line in art:\n",
    "        for word in line.replace(\",\",\"\").replace(\".\",\"\").lower().split():  \n",
    "            cnt[word] += 1\n",
    "\n",
    "cnt.most_common(10)"
   ]
  },
  {
   "cell_type": "code",
   "execution_count": null,
   "metadata": {
    "collapsed": true
   },
   "outputs": [],
   "source": [
    "import jieba as jb #中文斷詞"
   ]
  },
  {
   "cell_type": "code",
   "execution_count": 15,
   "metadata": {},
   "outputs": [
    {
     "data": {
      "text/plain": [
       "[0, 1, 2, 3, 4, 5, 6, 7, 8, 9]"
      ]
     },
     "execution_count": 15,
     "metadata": {},
     "output_type": "execute_result"
    }
   ],
   "source": [
    "list(range(10))"
   ]
  },
  {
   "cell_type": "code",
   "execution_count": null,
   "metadata": {
    "collapsed": true
   },
   "outputs": [],
   "source": []
  },
  {
   "cell_type": "code",
   "execution_count": null,
   "metadata": {
    "collapsed": true
   },
   "outputs": [],
   "source": []
  },
  {
   "cell_type": "code",
   "execution_count": null,
   "metadata": {
    "collapsed": true
   },
   "outputs": [],
   "source": []
  }
 ],
 "metadata": {
  "kernelspec": {
   "display_name": "Python 3",
   "language": "python",
   "name": "python3"
  },
  "language_info": {
   "codemirror_mode": {
    "name": "ipython",
    "version": 3
   },
   "file_extension": ".py",
   "mimetype": "text/x-python",
   "name": "python",
   "nbconvert_exporter": "python",
   "pygments_lexer": "ipython3",
   "version": "3.6.1"
  }
 },
 "nbformat": 4,
 "nbformat_minor": 2
}

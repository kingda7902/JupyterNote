{
 "cells": [
  {
   "cell_type": "markdown",
   "metadata": {},
   "source": [
    "# PTT\n",
    "[八卦板](https://www.ptt.cc/bbs/Gossiping)  \n",
    "[Tech_Job](https://www.ptt.cc/bbs/Tech_Job/index.html)"
   ]
  },
  {
   "cell_type": "code",
   "execution_count": 45,
   "metadata": {},
   "outputs": [
    {
     "name": "stdout",
     "output_type": "stream",
     "text": [
      "200\n",
      "None\n",
      "<bound method Tag.prettify of <!DOCTYPE html>\n",
      "<html>\n",
      "<head>\n",
      "<meta charset=\"utf-8\"/>\n",
      "<meta content=\"width=device-width, initial-scale=1\" name=\"viewport\"/>\n",
      "<title>看板 Tech_Job 文章列表 - 批踢踢實業坊</title>\n",
      "<link href=\"//images.ptt.cc/bbs/v2.22/bbs-common.css\" rel=\"stylesheet\" type=\"text/css\"/>\n",
      "<link href=\"//images.ptt.cc/bbs/v2.22/bbs-base.css\" media=\"screen\" rel=\"stylesheet\" type=\"text/css\"/>\n",
      "<link href=\"//images.ptt.cc/bbs/v2.22/bbs-custom.css\" rel=\"stylesheet\" type=\"text/css\"/>\n",
      "<link href=\"//images.ptt.cc/bbs/v2.22/pushstream.css\" media=\"screen\" rel=\"stylesheet\" type=\"text/css\"/>\n",
      "<link href=\"//images.ptt.cc/bbs/v2.22/bbs-print.css\" media=\"print\" rel=\"stylesheet\" type=\"text/css\"/>\n",
      "</head>\n",
      "<body>\n",
      "<div id=\"topbar-container\">\n",
      "<div class=\"bbs-content\" id=\"topbar\">\n",
      "<a href=\"/\" id=\"logo\">批踢踢實業坊</a>\n",
      "<span>›</span>\n",
      "<a class=\"board\" href=\"/bbs/Tech_Job/index.html\"><span class=\"board-label\">看板 </span>Tech_Job</a>\n",
      "<a class=\"right small\" href=\"/about.html\">關於我們</a>\n",
      "<a class=\"right small\" href=\"/contact.html\">聯絡資訊</a>\n",
      "</div>\n",
      "</div>\n",
      "<div id=\"main-container\">\n",
      "<div id=\"action-bar-container\">\n",
      "<div class=\"action-bar\">\n",
      "<div class=\"btn-group btn-group-dir\">\n",
      "<a class=\"btn selected\" href=\"/bbs/Tech_Job/index.html\">看板</a>\n",
      "<a class=\"btn\" href=\"/man/Tech_Job/index.html\">精華區</a>\n",
      "</div>\n",
      "<div class=\"btn-group btn-group-paging\">\n",
      "<a class=\"btn wide\" href=\"/bbs/Tech_Job/index1.html\">最舊</a>\n",
      "<a class=\"btn wide\" href=\"/bbs/Tech_Job/index2711.html\">‹ 上頁</a>\n",
      "<a class=\"btn wide disabled\">下頁 ›</a>\n",
      "<a class=\"btn wide\" href=\"/bbs/Tech_Job/index.html\">最新</a>\n",
      "</div>\n",
      "</div>\n",
      "</div>\n",
      "<div class=\"r-list-container action-bar-margin bbs-screen\">\n",
      "<div class=\"r-ent\">\n",
      "<div class=\"nrec\"><span class=\"hl f2\">2</span></div>\n",
      "<div class=\"mark\"></div>\n",
      "<div class=\"title\">\n",
      "<a href=\"/bbs/Tech_Job/M.1499336076.A.925.html\">[新聞] Re: [轉錄] 機能衣大躍進，紡織矽谷的崛起</a>\n",
      "</div>\n",
      "<div class=\"meta\">\n",
      "<div class=\"date\"> 7/06</div>\n",
      "<div class=\"author\">FEGROUP</div>\n",
      "</div>\n",
      "</div>\n",
      "<div class=\"r-list-sep\"></div>\n",
      "<div class=\"r-ent\">\n",
      "<div class=\"nrec\"><span class=\"hl f1\">爆</span></div>\n",
      "<div class=\"mark\">M</div>\n",
      "<div class=\"title\">\n",
      "<a href=\"/bbs/Tech_Job/M.1306417621.A.318.html\">律師為您解惑－線上勞動法免費諮詢即日為勞工 …</a>\n",
      "</div>\n",
      "<div class=\"meta\">\n",
      "<div class=\"date\"> 5/26</div>\n",
      "<div class=\"author\">pzs</div>\n",
      "</div>\n",
      "</div>\n",
      "<div class=\"r-ent\">\n",
      "<div class=\"nrec\"><span class=\"hl f2\">9</span></div>\n",
      "<div class=\"mark\">M</div>\n",
      "<div class=\"title\">\n",
      "<a href=\"/bbs/Tech_Job/M.1393646135.A.A28.html\">[公告] Tech_Job板板規 2014.03.01</a>\n",
      "</div>\n",
      "<div class=\"meta\">\n",
      "<div class=\"date\"> 3/01</div>\n",
      "<div class=\"author\">mmkntust</div>\n",
      "</div>\n",
      "</div>\n",
      "<div class=\"r-ent\">\n",
      "<div class=\"nrec\"><span class=\"hl f3\">99</span></div>\n",
      "<div class=\"mark\">M</div>\n",
      "<div class=\"title\">\n",
      "<a href=\"/bbs/Tech_Job/M.1410062073.A.1B6.html\">[公告] 置底 檢舉/推薦 文章</a>\n",
      "</div>\n",
      "<div class=\"meta\">\n",
      "<div class=\"date\"> 9/07</div>\n",
      "<div class=\"author\">mmkntust</div>\n",
      "</div>\n",
      "</div>\n",
      "<div class=\"r-ent\">\n",
      "<div class=\"nrec\"><span class=\"hl f1\">爆</span></div>\n",
      "<div class=\"mark\">M</div>\n",
      "<div class=\"title\">\n",
      "<a href=\"/bbs/Tech_Job/M.1476442719.A.187.html\">[免費]工作人生顧問</a>\n",
      "</div>\n",
      "<div class=\"meta\">\n",
      "<div class=\"date\">10/14</div>\n",
      "<div class=\"author\">zodiac</div>\n",
      "</div>\n",
      "</div>\n",
      "<div class=\"r-ent\">\n",
      "<div class=\"nrec\"><span class=\"hl f2\">4</span></div>\n",
      "<div class=\"mark\">M</div>\n",
      "<div class=\"title\">\n",
      "<a href=\"/bbs/Tech_Job/M.1425268790.A.15E.html\">[公告] 如何消除退文 轉自Ask板</a>\n",
      "</div>\n",
      "<div class=\"meta\">\n",
      "<div class=\"date\"> 3/02</div>\n",
      "<div class=\"author\">mmkntust</div>\n",
      "</div>\n",
      "</div>\n",
      "</div>\n",
      "</div>\n",
      "<script>\n",
      "  (function(i,s,o,g,r,a,m){i['GoogleAnalyticsObject']=r;i[r]=i[r]||function(){\n",
      "  (i[r].q=i[r].q||[]).push(arguments)},i[r].l=1*new Date();a=s.createElement(o),\n",
      "  m=s.getElementsByTagName(o)[0];a.async=1;a.src=g;m.parentNode.insertBefore(a,m)\n",
      "  })(window,document,'script','https://www.google-analytics.com/analytics.js','ga');\n",
      "\n",
      "  ga('create', 'UA-32365737-1', {\n",
      "    cookieDomain: 'ptt.cc',\n",
      "    legacyCookieDomain: 'ptt.cc'\n",
      "  });\n",
      "  ga('send', 'pageview');\n",
      "</script>\n",
      "<script src=\"//ajax.googleapis.com/ajax/libs/jquery/2.1.1/jquery.min.js\"></script>\n",
      "<script src=\"//images.ptt.cc/bbs/v2.22/bbs.js\"></script>\n",
      "</body>\n",
      "</html>\n",
      ">\n"
     ]
    }
   ],
   "source": [
    "import requests\n",
    "from bs4 import BeautifulSoup\n",
    "\n",
    "URL = \"https://www.ptt.cc/bbs/Tech_Job/index.html\"\n",
    "res = requests.get(URL)\n",
    "print(res.status_code)\n",
    "\n",
    "soup = BeautifulSoup(res.text, \"lxml\")\n",
    "print(soup.select_one('.over18-notice'))\n",
    "print(soup.prettify)"
   ]
  },
  {
   "cell_type": "markdown",
   "metadata": {},
   "source": [
    "\n"
   ]
  },
  {
   "cell_type": "markdown",
   "metadata": {},
   "source": [
    "## observation\n",
    "\n",
    "* 這邊可以得到總頁數\n",
    "  xpath://*[@id=\"action-bar-container\"]/div/div[2]/a[2]\n",
    "> ``` <div class=\"btn-group btn-group-paging\">\n",
    "<a class=\"btn wide\" href=\"/bbs/Tech_Job/index1.html\">最舊</a>\n",
    "<a class=\"btn wide\" href=\"/bbs/Tech_Job/index2710.html\">‹ 上頁</a>\n",
    "<a class=\"btn wide disabled\">下頁 ›</a>\n",
    "<a class=\"btn wide\" href=\"/bbs/Tech_Job/index.html\">最新</a>\n",
    "</div> ```\n",
    "\n",
    "* 要爬需要的URL\n",
    "> ``` <div class=\"r-ent\">\n",
    "<div class=\"nrec\"></div>\n",
    "<div class=\"mark\"></div>\n",
    "<div class=\"title\">\n",
    "<a href=\"/bbs/Tech_Job/M.1499315840.A.3C1.html\">Re: [討論]公司要RD背業績?</a>\n",
    "</div>\n",
    "<div class=\"meta\">\n",
    "<div class=\"date\"> 7/06</div>\n",
    "<div class=\"author\">Noemen</div>\n",
    "</div>\n",
    "</div> ```  \n",
    "\n"
   ]
  },
  {
   "cell_type": "code",
   "execution_count": 46,
   "metadata": {},
   "outputs": [
    {
     "data": {
      "text/plain": [
       "'/bbs/Tech_Job/index2711.html'"
      ]
     },
     "execution_count": 46,
     "metadata": {},
     "output_type": "execute_result"
    }
   ],
   "source": [
    "# index頁數 + url\n",
    "btn_pre_page = soup.select(\".btn-group-paging > a\")[1]\n",
    "btn_pre_page[\"href\"]"
   ]
  },
  {
   "cell_type": "code",
   "execution_count": 57,
   "metadata": {},
   "outputs": [
    {
     "name": "stdout",
     "output_type": "stream",
     "text": [
      "/bbs/Tech_Job/M.1499336076.A.925.html\n",
      "[新聞] Re: [轉錄] 機能衣大躍進，紡織矽谷的崛起\n",
      "/bbs/Tech_Job/M.1306417621.A.318.html\n",
      "律師為您解惑－線上勞動法免費諮詢即日為勞工 …\n",
      "/bbs/Tech_Job/M.1393646135.A.A28.html\n",
      "[公告] Tech_Job板板規 2014.03.01\n",
      "/bbs/Tech_Job/M.1410062073.A.1B6.html\n",
      "[公告] 置底 檢舉/推薦 文章\n",
      "/bbs/Tech_Job/M.1476442719.A.187.html\n",
      "[免費]工作人生顧問\n",
      "/bbs/Tech_Job/M.1425268790.A.15E.html\n",
      "[公告] 如何消除退文 轉自Ask板\n"
     ]
    }
   ],
   "source": [
    "for elet in soup.select(\".r-ent a\") :\n",
    "    print(elet[\"href\"])\n",
    "    print(elet.text)"
   ]
  },
  {
   "cell_type": "code",
   "execution_count": 62,
   "metadata": {
    "collapsed": true
   },
   "outputs": [],
   "source": [
    "uri = \"https://www.ptt.cc\"\n",
    "\n",
    "job_list = []\n",
    "for elet in soup.select(\".r-ent a\"):\n",
    "    job_dict = {}\n",
    "    job_dict['title']  = elet.text\n",
    "    job_dict['url'] = uri + elet[\"href\"]\n",
    "    job_list.append(job_dict)"
   ]
  },
  {
   "cell_type": "code",
   "execution_count": 63,
   "metadata": {},
   "outputs": [
    {
     "data": {
      "text/plain": [
       "[{'title': '[新聞] Re: [轉錄] 機能衣大躍進，紡織矽谷的崛起',\n",
       "  'url': 'https://www.ptt.cc/bbs/Tech_Job/M.1499336076.A.925.html'},\n",
       " {'title': '律師為您解惑－線上勞動法免費諮詢即日為勞工 …',\n",
       "  'url': 'https://www.ptt.cc/bbs/Tech_Job/M.1306417621.A.318.html'},\n",
       " {'title': '[公告] Tech_Job板板規 2014.03.01',\n",
       "  'url': 'https://www.ptt.cc/bbs/Tech_Job/M.1393646135.A.A28.html'},\n",
       " {'title': '[公告] 置底 檢舉/推薦 文章',\n",
       "  'url': 'https://www.ptt.cc/bbs/Tech_Job/M.1410062073.A.1B6.html'},\n",
       " {'title': '[免費]工作人生顧問',\n",
       "  'url': 'https://www.ptt.cc/bbs/Tech_Job/M.1476442719.A.187.html'},\n",
       " {'title': '[公告] 如何消除退文 轉自Ask板',\n",
       "  'url': 'https://www.ptt.cc/bbs/Tech_Job/M.1425268790.A.15E.html'}]"
      ]
     },
     "execution_count": 63,
     "metadata": {},
     "output_type": "execute_result"
    }
   ],
   "source": [
    "job_list"
   ]
  },
  {
   "cell_type": "code",
   "execution_count": null,
   "metadata": {
    "collapsed": true
   },
   "outputs": [],
   "source": [
    "job_list_500p = []\n"
   ]
  }
 ],
 "metadata": {
  "kernelspec": {
   "display_name": "Python 3",
   "language": "python",
   "name": "python3"
  },
  "language_info": {
   "codemirror_mode": {
    "name": "ipython",
    "version": 3
   },
   "file_extension": ".py",
   "mimetype": "text/x-python",
   "name": "python",
   "nbconvert_exporter": "python",
   "pygments_lexer": "ipython3",
   "version": "3.6.1"
  }
 },
 "nbformat": 4,
 "nbformat_minor": 2
}
